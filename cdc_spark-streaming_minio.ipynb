{
 "cells": [
  {
   "cell_type": "code",
   "execution_count": 1,
   "id": "acadc6a5-0107-4d82-8016-aa917c8f9c09",
   "metadata": {},
   "outputs": [],
   "source": [
    "from pyspark.sql import SparkSession\n",
    "from pyspark import SparkContext\n",
    "from pyspark.sql.types import *\n",
    "from pyspark.sql import SparkSession, functions as F\n",
    "import warnings\n",
    "warnings.filterwarnings('ignore')"
   ]
  },
  {
   "cell_type": "code",
   "execution_count": 2,
   "id": "d068f683-bdf5-4509-8330-f4f1dff86e2e",
   "metadata": {},
   "outputs": [
    {
     "name": "stdout",
     "output_type": "stream",
     "text": [
      ":: loading settings :: url = jar:file:/opt/spark/jars/ivy-2.4.0.jar!/org/apache/ivy/core/settings/ivysettings.xml\n"
     ]
    },
    {
     "name": "stderr",
     "output_type": "stream",
     "text": [
      "Ivy Default Cache set to: /root/.ivy2/cache\n",
      "The jars for the packages stored in: /root/.ivy2/jars\n",
      "org.apache.spark#spark-sql-kafka-0-10_2.12 added as a dependency\n",
      ":: resolving dependencies :: org.apache.spark#spark-submit-parent-878ba8f4-3c6d-41c0-add2-473c98bcb1c3;1.0\n",
      "\tconfs: [default]\n",
      "\tfound org.apache.spark#spark-sql-kafka-0-10_2.12;3.1.1 in central\n",
      "\tfound org.apache.spark#spark-token-provider-kafka-0-10_2.12;3.1.1 in central\n",
      "\tfound org.apache.kafka#kafka-clients;2.6.0 in central\n",
      "\tfound com.github.luben#zstd-jni;1.4.8-1 in central\n",
      "\tfound org.lz4#lz4-java;1.7.1 in central\n",
      "\tfound org.xerial.snappy#snappy-java;1.1.8.2 in central\n",
      "\tfound org.slf4j#slf4j-api;1.7.30 in central\n",
      "\tfound org.spark-project.spark#unused;1.0.0 in central\n",
      "\tfound org.apache.commons#commons-pool2;2.6.2 in central\n",
      ":: resolution report :: resolve 962ms :: artifacts dl 22ms\n",
      "\t:: modules in use:\n",
      "\tcom.github.luben#zstd-jni;1.4.8-1 from central in [default]\n",
      "\torg.apache.commons#commons-pool2;2.6.2 from central in [default]\n",
      "\torg.apache.kafka#kafka-clients;2.6.0 from central in [default]\n",
      "\torg.apache.spark#spark-sql-kafka-0-10_2.12;3.1.1 from central in [default]\n",
      "\torg.apache.spark#spark-token-provider-kafka-0-10_2.12;3.1.1 from central in [default]\n",
      "\torg.lz4#lz4-java;1.7.1 from central in [default]\n",
      "\torg.slf4j#slf4j-api;1.7.30 from central in [default]\n",
      "\torg.spark-project.spark#unused;1.0.0 from central in [default]\n",
      "\torg.xerial.snappy#snappy-java;1.1.8.2 from central in [default]\n",
      "\t---------------------------------------------------------------------\n",
      "\t|                  |            modules            ||   artifacts   |\n",
      "\t|       conf       | number| search|dwnlded|evicted|| number|dwnlded|\n",
      "\t---------------------------------------------------------------------\n",
      "\t|      default     |   9   |   0   |   0   |   0   ||   9   |   0   |\n",
      "\t---------------------------------------------------------------------\n",
      ":: retrieving :: org.apache.spark#spark-submit-parent-878ba8f4-3c6d-41c0-add2-473c98bcb1c3\n",
      "\tconfs: [default]\n",
      "\t0 artifacts copied, 9 already retrieved (0kB/43ms)\n",
      "23/02/18 21:32:56 WARN NativeCodeLoader: Unable to load native-hadoop library for your platform... using builtin-java classes where applicable\n",
      "Using Spark's default log4j profile: org/apache/spark/log4j-defaults.properties\n",
      "Setting default log level to \"WARN\".\n",
      "To adjust logging level use sc.setLogLevel(newLevel). For SparkR, use setLogLevel(newLevel).\n"
     ]
    }
   ],
   "source": [
    "# minio giriş bilgilerini tanımlıyorum.\n",
    "accessKeyId=<user>\n",
    "secretAccessKey=<password>\n",
    "\n",
    "# SparkSession oluşturuyorum.\n",
    "spark = SparkSession.builder \\\n",
    ".appName(\"Spark Example MinIO\") \\\n",
    ".master(\"spark://spark-master:7077\") \\\n",
    ".config(\"spark.jars.packages\",\"org.apache.spark:spark-sql-kafka-0-10_2.12:3.1.1\") \\\n",
    ".getOrCreate()\n",
    "# master olarak spark master'ı veriyoruz çünkü Standalone cluster da çalışırken yarn veya local diyemeyiz. \n",
    "# spark streaming uygulaması yaptığımız için spark ile kafkanın beraber çalışacağı jar dosyasını aldım."
   ]
  },
  {
   "cell_type": "code",
   "execution_count": 3,
   "id": "3acce4d2-7139-48ed-b5a4-466f2d4f1cea",
   "metadata": {},
   "outputs": [],
   "source": [
    "def load_config(spark_context: SparkContext):\n",
    "    spark_context._jsc.hadoopConfiguration().set('fs.s3a.access.key', accessKeyId)\n",
    "    spark_context._jsc.hadoopConfiguration().set('fs.s3a.secret.key', secretAccessKey)\n",
    "    spark_context._jsc.hadoopConfiguration().set('fs.s3a.path.style.access', 'true')\n",
    "    spark_context._jsc.hadoopConfiguration().set('fs.s3a.impl', 'org.apache.hadoop.fs.s3a.S3AFileSystem')\n",
    "    spark_context._jsc.hadoopConfiguration().set('fs.s3a.endpoint', 'http://minio:9000')"
   ]
  },
  {
   "cell_type": "code",
   "execution_count": 4,
   "id": "4c2f58d5-af38-4afd-abc1-0647b35e47a8",
   "metadata": {},
   "outputs": [],
   "source": [
    "load_config(spark.sparkContext)"
   ]
  },
  {
   "cell_type": "code",
   "execution_count": 5,
   "id": "a08a75c1-bf83-4ece-9ba2-d2163d22219f",
   "metadata": {},
   "outputs": [],
   "source": [
    "# MinIO'ya yazmak için gerekli ayarları Spark'ın içerisine tanımladım."
   ]
  },
  {
   "cell_type": "code",
   "execution_count": 6,
   "id": "f0a2b491-385b-494f-a0cf-783a7d1605cb",
   "metadata": {},
   "outputs": [],
   "source": [
    "# önce Kafka'nın IP Adresini almamız gerekiyor.\n",
    "# docker inspect final_project_2-kafka-1 | grep \"IPAddress\""
   ]
  },
  {
   "cell_type": "code",
   "execution_count": 7,
   "id": "79738daa-71c5-4cd4-a68f-115fa7a4354b",
   "metadata": {},
   "outputs": [],
   "source": [
    "df = spark \\\n",
    "  .readStream \\\n",
    "  .format(\"kafka\") \\\n",
    "  .option(\"kafka.bootstrap.servers\", \"172.18.0.7:9092\") \\\n",
    "  .option(\"subscribe\", \"dbserver1.public.customers\") \\\n",
    "  .option(\"startingOffsets\", \"earliest\") \\\n",
    "  .option(\"multiline\",\"true\") \\\n",
    "  .load()\n",
    "# Bu bir streaming uygulaması olduğu için formatımız kafka, sonra Kafka'nın server adresini belirttim. \n",
    "# dbserver1.public.customers topic'ini dinleyeceğiz. offsetleri en başından itibaren alsın. \n",
    "# multiline true diyerek de json formatı olacağı için veri, option olarak belirttim."
   ]
  },
  {
   "cell_type": "code",
   "execution_count": 8,
   "id": "2f52844b-a6ee-4a41-be98-3dc2b66f35ce",
   "metadata": {},
   "outputs": [],
   "source": [
    "# veri payload ve schema olmak üzere 2 ana dala ayrılıyor.\n",
    "# payload kısmı bizim için önemli yani bu tarafı key olarak düşünebiliriz.\n",
    "# before ve after ksımlarını ise value olarak düşünüp ilerliyorum. İzlememiz gereken akış bu şekildedir.\n",
    "# ts_ms: kaçıncı saniyede yazıldığı yani timestamp bilgisi ve op: hangi işlem türü olduğudur. "
   ]
  },
  {
   "cell_type": "code",
   "execution_count": 9,
   "id": "e34f87d9-3326-4520-a412-14c02c9bd489",
   "metadata": {},
   "outputs": [],
   "source": [
    "df_schema = StructType([\n",
    "     StructField('schema',  StringType(), True),\n",
    "     StructField('payload', StringType(), True)\n",
    "     ])\n",
    "# df_schema ile Kafka console'dan okuduğumuz veriyi 2 ana kolon altında şemaya giydiriyorum. \n",
    "# Her ikisini de string türünde tanımlıyorum. ilki schema, ikincisi payload. Bana lazım olan da payload."
   ]
  },
  {
   "cell_type": "code",
   "execution_count": 10,
   "id": "0aa400a9-6a11-4170-b900-fae53e068b81",
   "metadata": {},
   "outputs": [],
   "source": [
    "df2 = df.selectExpr(\"cast (value as string) as json\").select(F.from_json(\"json\", schema=df_schema).alias(\"data\")).select(\"data.payload\")\n",
    "# Console'dan gelen value kısmını string olarak cast ettim yani serialize ettim ismini de json olarak verdim. \n",
    "# Sonra bu value'nun içindeki veri json formatında olduğu için from json kullandım. \n",
    "# ve yukarıda tanımladığım şemayı giydiriyorum. En sonda da bu veri içerisinden payload kısmını select ile seçiyorum."
   ]
  },
  {
   "cell_type": "code",
   "execution_count": 11,
   "id": "1cff1578-c239-4c56-a49a-59e419eb9653",
   "metadata": {},
   "outputs": [
    {
     "name": "stdout",
     "output_type": "stream",
     "text": [
      "root\n",
      " |-- payload: string (nullable = true)\n",
      "\n"
     ]
    }
   ],
   "source": [
    "df2.printSchema()"
   ]
  },
  {
   "cell_type": "code",
   "execution_count": 12,
   "id": "ada7608a-afa1-4297-ba53-3d44d6e6a1f4",
   "metadata": {},
   "outputs": [],
   "source": [
    "# 2. kısım: payload içerisindeki şemaları oluşturuyorum. Value kısmı olarak düşünebiliriz."
   ]
  },
  {
   "cell_type": "code",
   "execution_count": 13,
   "id": "c921e64f-3f06-4011-9a9c-5b897fc8d49e",
   "metadata": {},
   "outputs": [],
   "source": [
    "message_schema = StructType([\n",
    "     StructField('before', MapType(StringType(), StringType(), True), True),\n",
    "     StructField('after', MapType(StringType(), StringType(), True), True),\n",
    "     StructField('op', StringType(), True),\n",
    "     StructField('ts_ms', StringType(), True)\n",
    "     ]\n",
    ")\n",
    "# before kısmının kendisi sözlük tipinde içerisi ise string yapıda olduğu için bu şekilde verdim. Aynısı after içinde geçerli.\n",
    "# op ve ts_ms zaten string olacak."
   ]
  },
  {
   "cell_type": "code",
   "execution_count": 14,
   "id": "110d6985-5026-453f-ac74-3630a02977ca",
   "metadata": {},
   "outputs": [],
   "source": [
    "# after_fields ve before_fieldsları ise döngü yazarken kullanacaz gibi düşünelim. \n",
    "# Her ikisindeki kolonların isimlerini yazıyoruz. Bu sayede bu liste içerisindeki değerleri getirebileceğiz."
   ]
  },
  {
   "cell_type": "code",
   "execution_count": 15,
   "id": "89be5fc2-2d3f-4222-aa99-e0c6a29df95b",
   "metadata": {},
   "outputs": [],
   "source": [
    "after_fields = [\n",
    "    \"customerId\", \"customerFName\", \"customerLName\", \"customerEmail\",\n",
    "    \"customerPassword\", \"customerStreet\", \"customerCity\", \"customerState\", \"customerZipcode\"]"
   ]
  },
  {
   "cell_type": "code",
   "execution_count": 16,
   "id": "4fbafc3c-1781-4334-8b15-47c05ee425c7",
   "metadata": {},
   "outputs": [],
   "source": [
    "before_fields = [\n",
    "    \"customerId\", \"customerFName\", \"customerLName\", \"customerEmail\",\n",
    "    \"customerPassword\", \"customerStreet\", \"customerCity\", \"customerState\", \"customerZipcode\"]"
   ]
  },
  {
   "cell_type": "code",
   "execution_count": 17,
   "id": "bb799723-359b-4a8f-9d6e-c38c198e5fda",
   "metadata": {},
   "outputs": [],
   "source": [
    "# Önemli kısım: Burda payload içerisinden value kısmını from json ile çekeceğim.\n",
    "# Şemam ise yukarda tanımladığım message_schema ile de payload kısmının value'ları için şema giydiriyorum.\n",
    "# payload.before ve payload.after için comprehension yapısını kullanarak bunlara ait kolonları getiriyorum. op ve ts_ms kolonlarını da şeçerek value'larımı getirmiş oluyorum."
   ]
  },
  {
   "cell_type": "code",
   "execution_count": 18,
   "id": "2567baf2-92a1-42da-882e-4b5d43a471d5",
   "metadata": {},
   "outputs": [],
   "source": [
    "df_final = df2.withColumn(\"payload\",F.from_json(F.col(\"payload\"), message_schema))\\\n",
    ".select(*[F.col(\"payload.before\").getItem(f).alias('payload.before.'+f) for f in before_fields], \\\n",
    "*[F.col(\"payload.after\").getItem(f).alias('payload.after.'+f) for f in after_fields], 'payload.op','payload.ts_ms')"
   ]
  },
  {
   "cell_type": "code",
   "execution_count": 19,
   "id": "cccae182-0855-4109-9469-dbc7bd8a8cc9",
   "metadata": {},
   "outputs": [
    {
     "name": "stdout",
     "output_type": "stream",
     "text": [
      "root\n",
      " |-- payload.before.customerId: string (nullable = true)\n",
      " |-- payload.before.customerFName: string (nullable = true)\n",
      " |-- payload.before.customerLName: string (nullable = true)\n",
      " |-- payload.before.customerEmail: string (nullable = true)\n",
      " |-- payload.before.customerPassword: string (nullable = true)\n",
      " |-- payload.before.customerStreet: string (nullable = true)\n",
      " |-- payload.before.customerCity: string (nullable = true)\n",
      " |-- payload.before.customerState: string (nullable = true)\n",
      " |-- payload.before.customerZipcode: string (nullable = true)\n",
      " |-- payload.after.customerId: string (nullable = true)\n",
      " |-- payload.after.customerFName: string (nullable = true)\n",
      " |-- payload.after.customerLName: string (nullable = true)\n",
      " |-- payload.after.customerEmail: string (nullable = true)\n",
      " |-- payload.after.customerPassword: string (nullable = true)\n",
      " |-- payload.after.customerStreet: string (nullable = true)\n",
      " |-- payload.after.customerCity: string (nullable = true)\n",
      " |-- payload.after.customerState: string (nullable = true)\n",
      " |-- payload.after.customerZipcode: string (nullable = true)\n",
      " |-- op: string (nullable = true)\n",
      " |-- ts_ms: string (nullable = true)\n",
      "\n"
     ]
    }
   ],
   "source": [
    "df_final.printSchema()"
   ]
  },
  {
   "cell_type": "code",
   "execution_count": 20,
   "id": "6de55645-514d-47b5-92d8-9048912dbc7a",
   "metadata": {},
   "outputs": [],
   "source": [
    "# veriyi console yazıdırarak kontrol ediyorum."
   ]
  },
  {
   "cell_type": "code",
   "execution_count": 21,
   "id": "efc80f2b-a8ee-4a0c-b18a-5d54f811c0d0",
   "metadata": {
    "tags": []
   },
   "outputs": [
    {
     "name": "stderr",
     "output_type": "stream",
     "text": [
      "23/02/18 21:33:15 WARN StreamingQueryManager: Temporary checkpoint location created which is deleted normally when the query didn't fail: /tmp/temporary-edfa7a3c-2fa5-4ab3-aa0d-b14544bde305. If it's required to delete it under any circumstances, please set spark.sql.streaming.forceDeleteTempCheckpointLocation to true. Important to know deleting temp checkpoint folder is best effort.\n",
      "                                                                                \r"
     ]
    },
    {
     "name": "stdout",
     "output_type": "stream",
     "text": [
      "-------------------------------------------\n",
      "Batch: 0\n",
      "-------------------------------------------\n",
      "+-------------------------+----------------------------+----------------------------+----------------------------+-------------------------------+-----------------------------+---------------------------+----------------------------+------------------------------+------------------------+---------------------------+---------------------------+---------------------------+------------------------------+----------------------------+--------------------------+---------------------------+-----------------------------+---+-------------+\n",
      "|payload.before.customerId|payload.before.customerFName|payload.before.customerLName|payload.before.customerEmail|payload.before.customerPassword|payload.before.customerStreet|payload.before.customerCity|payload.before.customerState|payload.before.customerZipcode|payload.after.customerId|payload.after.customerFName|payload.after.customerLName|payload.after.customerEmail|payload.after.customerPassword|payload.after.customerStreet|payload.after.customerCity|payload.after.customerState|payload.after.customerZipcode|op |ts_ms        |\n",
      "+-------------------------+----------------------------+----------------------------+----------------------------+-------------------------------+-----------------------------+---------------------------+----------------------------+------------------------------+------------------------+---------------------------+---------------------------+---------------------------+------------------------------+----------------------------+--------------------------+---------------------------+-----------------------------+---+-------------+\n",
      "|null                     |null                        |null                        |null                        |null                           |null                         |null                       |null                        |null                          |1                       |Richard                    |Hernandez                  |XXXXXXXXX                  |XXXXXXXXX                     |6303 Heather Plaza          |Brownsville               |TX                         |78521                        |c  |1676500469242|\n",
      "|null                     |null                        |null                        |null                        |null                           |null                         |null                       |null                        |null                          |2                       |Mary                       |Barrett                    |XXXXXXXXX                  |XXXXXXXXX                     |9526 Noble Embers Ridge     |Littleton                 |CO                         |80126                        |c  |1676500469246|\n",
      "|null                     |null                        |null                        |null                        |null                           |null                         |null                       |null                        |null                          |3                       |Ann                        |Smith                      |XXXXXXXXX                  |XXXXXXXXX                     |3422 Blue Pioneer Bend      |Caguas                    |PR                         |725                          |c  |1676500469249|\n",
      "|null                     |null                        |null                        |null                        |null                           |null                         |null                       |null                        |null                          |4                       |Mary                       |Jones                      |XXXXXXXXX                  |XXXXXXXXX                     |8324 Little Common          |San Marcos                |CA                         |92069                        |c  |1676500469250|\n",
      "|null                     |null                        |null                        |null                        |null                           |null                         |null                       |null                        |null                          |5                       |Robert                     |Hudson                     |XXXXXXXXX                  |XXXXXXXXX                     |10 Crystal River Mall       |Caguas                    |PR                         |725                          |c  |1676500469252|\n",
      "|null                     |null                        |null                        |null                        |null                           |null                         |null                       |null                        |null                          |6                       |Mary                       |Smith                      |XXXXXXXXX                  |XXXXXXXXX                     |3151 Sleepy Quail Promenade |Passaic                   |NJ                         |7055                         |c  |1676500469252|\n",
      "|null                     |null                        |null                        |null                        |null                           |null                         |null                       |null                        |null                          |7                       |Melissa                    |Wilcox                     |XXXXXXXXX                  |XXXXXXXXX                     |9453 High Concession        |Caguas                    |PR                         |725                          |c  |1676500469253|\n",
      "|null                     |null                        |null                        |null                        |null                           |null                         |null                       |null                        |null                          |8                       |Megan                      |Smith                      |XXXXXXXXX                  |XXXXXXXXX                     |3047 Foggy Forest Plaza     |Lawrence                  |MA                         |1841                         |c  |1676500469253|\n",
      "|null                     |null                        |null                        |null                        |null                           |null                         |null                       |null                        |null                          |9                       |Mary                       |Perez                      |XXXXXXXXX                  |XXXXXXXXX                     |3616 Quaking Street         |Caguas                    |PR                         |725                          |c  |1676500469254|\n",
      "|null                     |null                        |null                        |null                        |null                           |null                         |null                       |null                        |null                          |10                      |Melissa                    |Smith                      |XXXXXXXXX                  |XXXXXXXXX                     |8598 Harvest Beacon Plaza   |Stafford                  |VA                         |22554                        |c  |1676500469254|\n",
      "|null                     |null                        |null                        |null                        |null                           |null                         |null                       |null                        |null                          |11                      |Mary                       |Huffman                    |XXXXXXXXX                  |XXXXXXXXX                     |3169 Stony Woods            |Caguas                    |PR                         |725                          |c  |1676500469766|\n",
      "|null                     |null                        |null                        |null                        |null                           |null                         |null                       |null                        |null                          |12                      |Christopher                |Smith                      |XXXXXXXXX                  |XXXXXXXXX                     |5594 Jagged Embers By-pass  |San Antonio               |TX                         |78227                        |c  |1676500469768|\n",
      "|null                     |null                        |null                        |null                        |null                           |null                         |null                       |null                        |null                          |13                      |Mary                       |Baldwin                    |XXXXXXXXX                  |XXXXXXXXX                     |7922 Iron Oak Gardens       |Caguas                    |PR                         |725                          |c  |1676500469770|\n",
      "|null                     |null                        |null                        |null                        |null                           |null                         |null                       |null                        |null                          |14                      |Katherine                  |Smith                      |XXXXXXXXX                  |XXXXXXXXX                     |5666 Hazy Pony Square       |Pico Rivera               |CA                         |90660                        |c  |1676500469771|\n",
      "|null                     |null                        |null                        |null                        |null                           |null                         |null                       |null                        |null                          |15                      |Jane                       |Luna                       |XXXXXXXXX                  |XXXXXXXXX                     |673 Burning Glen            |Fontana                   |CA                         |92336                        |c  |1676500469772|\n",
      "|null                     |null                        |null                        |null                        |null                           |null                         |null                       |null                        |null                          |16                      |Tiffany                    |Smith                      |XXXXXXXXX                  |XXXXXXXXX                     |6651 Iron Port              |Caguas                    |PR                         |725                          |c  |1676500469772|\n",
      "|null                     |null                        |null                        |null                        |null                           |null                         |null                       |null                        |null                          |17                      |Mary                       |Robinson                   |XXXXXXXXX                  |XXXXXXXXX                     |1325 Noble Pike             |Taylor                    |MI                         |48180                        |c  |1676500469773|\n",
      "|null                     |null                        |null                        |null                        |null                           |null                         |null                       |null                        |null                          |18                      |Robert                     |Smith                      |XXXXXXXXX                  |XXXXXXXXX                     |2734 Hazy Butterfly Circle  |Martinez                  |CA                         |94553                        |c  |1676500469774|\n",
      "|null                     |null                        |null                        |null                        |null                           |null                         |null                       |null                        |null                          |19                      |Stephanie                  |Mitchell                   |XXXXXXXXX                  |XXXXXXXXX                     |3543 Red Treasure Bay       |Caguas                    |PR                         |725                          |c  |1676500469775|\n",
      "|null                     |null                        |null                        |null                        |null                           |null                         |null                       |null                        |null                          |20                      |Mary                       |Ellis                      |XXXXXXXXX                  |XXXXXXXXX                     |4703 Old Route              |West New York             |NJ                         |7093                         |c  |1676500469776|\n",
      "+-------------------------+----------------------------+----------------------------+----------------------------+-------------------------------+-----------------------------+---------------------------+----------------------------+------------------------------+------------------------+---------------------------+---------------------------+---------------------------+------------------------------+----------------------------+--------------------------+---------------------------+-----------------------------+---+-------------+\n",
      "only showing top 20 rows\n",
      "\n"
     ]
    },
    {
     "ename": "KeyboardInterrupt",
     "evalue": "",
     "output_type": "error",
     "traceback": [
      "\u001b[0;31m---------------------------------------------------------------------------\u001b[0m",
      "\u001b[0;31mKeyboardInterrupt\u001b[0m                         Traceback (most recent call last)",
      "\u001b[0;32m/tmp/ipykernel_2228/3987552827.py\u001b[0m in \u001b[0;36m<module>\u001b[0;34m\u001b[0m\n\u001b[1;32m      4\u001b[0m \u001b[0;34m.\u001b[0m\u001b[0moutputMode\u001b[0m\u001b[0;34m(\u001b[0m\u001b[0;34m\"append\"\u001b[0m\u001b[0;34m)\u001b[0m\u001b[0;34m.\u001b[0m\u001b[0mstart\u001b[0m\u001b[0;34m(\u001b[0m\u001b[0;34m)\u001b[0m\u001b[0;34m\u001b[0m\u001b[0;34m\u001b[0m\u001b[0m\n\u001b[1;32m      5\u001b[0m \u001b[0;34m\u001b[0m\u001b[0m\n\u001b[0;32m----> 6\u001b[0;31m \u001b[0mquery\u001b[0m\u001b[0;34m.\u001b[0m\u001b[0mawaitTermination\u001b[0m\u001b[0;34m(\u001b[0m\u001b[0;34m)\u001b[0m\u001b[0;34m\u001b[0m\u001b[0;34m\u001b[0m\u001b[0m\n\u001b[0m",
      "\u001b[0;32m/usr/local/lib/python3.7/site-packages/pyspark/sql/streaming.py\u001b[0m in \u001b[0;36mawaitTermination\u001b[0;34m(self, timeout)\u001b[0m\n\u001b[1;32m     99\u001b[0m             \u001b[0;32mreturn\u001b[0m \u001b[0mself\u001b[0m\u001b[0;34m.\u001b[0m\u001b[0m_jsq\u001b[0m\u001b[0;34m.\u001b[0m\u001b[0mawaitTermination\u001b[0m\u001b[0;34m(\u001b[0m\u001b[0mint\u001b[0m\u001b[0;34m(\u001b[0m\u001b[0mtimeout\u001b[0m \u001b[0;34m*\u001b[0m \u001b[0;36m1000\u001b[0m\u001b[0;34m)\u001b[0m\u001b[0;34m)\u001b[0m\u001b[0;34m\u001b[0m\u001b[0;34m\u001b[0m\u001b[0m\n\u001b[1;32m    100\u001b[0m         \u001b[0;32melse\u001b[0m\u001b[0;34m:\u001b[0m\u001b[0;34m\u001b[0m\u001b[0;34m\u001b[0m\u001b[0m\n\u001b[0;32m--> 101\u001b[0;31m             \u001b[0;32mreturn\u001b[0m \u001b[0mself\u001b[0m\u001b[0;34m.\u001b[0m\u001b[0m_jsq\u001b[0m\u001b[0;34m.\u001b[0m\u001b[0mawaitTermination\u001b[0m\u001b[0;34m(\u001b[0m\u001b[0;34m)\u001b[0m\u001b[0;34m\u001b[0m\u001b[0;34m\u001b[0m\u001b[0m\n\u001b[0m\u001b[1;32m    102\u001b[0m \u001b[0;34m\u001b[0m\u001b[0m\n\u001b[1;32m    103\u001b[0m     \u001b[0;34m@\u001b[0m\u001b[0mproperty\u001b[0m\u001b[0;34m\u001b[0m\u001b[0;34m\u001b[0m\u001b[0m\n",
      "\u001b[0;32m/usr/local/lib/python3.7/site-packages/py4j/java_gateway.py\u001b[0m in \u001b[0;36m__call__\u001b[0;34m(self, *args)\u001b[0m\n\u001b[1;32m   1301\u001b[0m             \u001b[0mproto\u001b[0m\u001b[0;34m.\u001b[0m\u001b[0mEND_COMMAND_PART\u001b[0m\u001b[0;34m\u001b[0m\u001b[0;34m\u001b[0m\u001b[0m\n\u001b[1;32m   1302\u001b[0m \u001b[0;34m\u001b[0m\u001b[0m\n\u001b[0;32m-> 1303\u001b[0;31m         \u001b[0manswer\u001b[0m \u001b[0;34m=\u001b[0m \u001b[0mself\u001b[0m\u001b[0;34m.\u001b[0m\u001b[0mgateway_client\u001b[0m\u001b[0;34m.\u001b[0m\u001b[0msend_command\u001b[0m\u001b[0;34m(\u001b[0m\u001b[0mcommand\u001b[0m\u001b[0;34m)\u001b[0m\u001b[0;34m\u001b[0m\u001b[0;34m\u001b[0m\u001b[0m\n\u001b[0m\u001b[1;32m   1304\u001b[0m         return_value = get_return_value(\n\u001b[1;32m   1305\u001b[0m             answer, self.gateway_client, self.target_id, self.name)\n",
      "\u001b[0;32m/usr/local/lib/python3.7/site-packages/py4j/java_gateway.py\u001b[0m in \u001b[0;36msend_command\u001b[0;34m(self, command, retry, binary)\u001b[0m\n\u001b[1;32m   1031\u001b[0m         \u001b[0mconnection\u001b[0m \u001b[0;34m=\u001b[0m \u001b[0mself\u001b[0m\u001b[0;34m.\u001b[0m\u001b[0m_get_connection\u001b[0m\u001b[0;34m(\u001b[0m\u001b[0;34m)\u001b[0m\u001b[0;34m\u001b[0m\u001b[0;34m\u001b[0m\u001b[0m\n\u001b[1;32m   1032\u001b[0m         \u001b[0;32mtry\u001b[0m\u001b[0;34m:\u001b[0m\u001b[0;34m\u001b[0m\u001b[0;34m\u001b[0m\u001b[0m\n\u001b[0;32m-> 1033\u001b[0;31m             \u001b[0mresponse\u001b[0m \u001b[0;34m=\u001b[0m \u001b[0mconnection\u001b[0m\u001b[0;34m.\u001b[0m\u001b[0msend_command\u001b[0m\u001b[0;34m(\u001b[0m\u001b[0mcommand\u001b[0m\u001b[0;34m)\u001b[0m\u001b[0;34m\u001b[0m\u001b[0;34m\u001b[0m\u001b[0m\n\u001b[0m\u001b[1;32m   1034\u001b[0m             \u001b[0;32mif\u001b[0m \u001b[0mbinary\u001b[0m\u001b[0;34m:\u001b[0m\u001b[0;34m\u001b[0m\u001b[0;34m\u001b[0m\u001b[0m\n\u001b[1;32m   1035\u001b[0m                 \u001b[0;32mreturn\u001b[0m \u001b[0mresponse\u001b[0m\u001b[0;34m,\u001b[0m \u001b[0mself\u001b[0m\u001b[0;34m.\u001b[0m\u001b[0m_create_connection_guard\u001b[0m\u001b[0;34m(\u001b[0m\u001b[0mconnection\u001b[0m\u001b[0;34m)\u001b[0m\u001b[0;34m\u001b[0m\u001b[0;34m\u001b[0m\u001b[0m\n",
      "\u001b[0;32m/usr/local/lib/python3.7/site-packages/py4j/java_gateway.py\u001b[0m in \u001b[0;36msend_command\u001b[0;34m(self, command)\u001b[0m\n\u001b[1;32m   1198\u001b[0m \u001b[0;34m\u001b[0m\u001b[0m\n\u001b[1;32m   1199\u001b[0m         \u001b[0;32mtry\u001b[0m\u001b[0;34m:\u001b[0m\u001b[0;34m\u001b[0m\u001b[0;34m\u001b[0m\u001b[0m\n\u001b[0;32m-> 1200\u001b[0;31m             \u001b[0manswer\u001b[0m \u001b[0;34m=\u001b[0m \u001b[0msmart_decode\u001b[0m\u001b[0;34m(\u001b[0m\u001b[0mself\u001b[0m\u001b[0;34m.\u001b[0m\u001b[0mstream\u001b[0m\u001b[0;34m.\u001b[0m\u001b[0mreadline\u001b[0m\u001b[0;34m(\u001b[0m\u001b[0;34m)\u001b[0m\u001b[0;34m[\u001b[0m\u001b[0;34m:\u001b[0m\u001b[0;34m-\u001b[0m\u001b[0;36m1\u001b[0m\u001b[0;34m]\u001b[0m\u001b[0;34m)\u001b[0m\u001b[0;34m\u001b[0m\u001b[0;34m\u001b[0m\u001b[0m\n\u001b[0m\u001b[1;32m   1201\u001b[0m             \u001b[0mlogger\u001b[0m\u001b[0;34m.\u001b[0m\u001b[0mdebug\u001b[0m\u001b[0;34m(\u001b[0m\u001b[0;34m\"Answer received: {0}\"\u001b[0m\u001b[0;34m.\u001b[0m\u001b[0mformat\u001b[0m\u001b[0;34m(\u001b[0m\u001b[0manswer\u001b[0m\u001b[0;34m)\u001b[0m\u001b[0;34m)\u001b[0m\u001b[0;34m\u001b[0m\u001b[0;34m\u001b[0m\u001b[0m\n\u001b[1;32m   1202\u001b[0m             \u001b[0;32mif\u001b[0m \u001b[0manswer\u001b[0m\u001b[0;34m.\u001b[0m\u001b[0mstartswith\u001b[0m\u001b[0;34m(\u001b[0m\u001b[0mproto\u001b[0m\u001b[0;34m.\u001b[0m\u001b[0mRETURN_MESSAGE\u001b[0m\u001b[0;34m)\u001b[0m\u001b[0;34m:\u001b[0m\u001b[0;34m\u001b[0m\u001b[0;34m\u001b[0m\u001b[0m\n",
      "\u001b[0;32m/usr/local/lib/python3.7/socket.py\u001b[0m in \u001b[0;36mreadinto\u001b[0;34m(self, b)\u001b[0m\n\u001b[1;32m    587\u001b[0m         \u001b[0;32mwhile\u001b[0m \u001b[0;32mTrue\u001b[0m\u001b[0;34m:\u001b[0m\u001b[0;34m\u001b[0m\u001b[0;34m\u001b[0m\u001b[0m\n\u001b[1;32m    588\u001b[0m             \u001b[0;32mtry\u001b[0m\u001b[0;34m:\u001b[0m\u001b[0;34m\u001b[0m\u001b[0;34m\u001b[0m\u001b[0m\n\u001b[0;32m--> 589\u001b[0;31m                 \u001b[0;32mreturn\u001b[0m \u001b[0mself\u001b[0m\u001b[0;34m.\u001b[0m\u001b[0m_sock\u001b[0m\u001b[0;34m.\u001b[0m\u001b[0mrecv_into\u001b[0m\u001b[0;34m(\u001b[0m\u001b[0mb\u001b[0m\u001b[0;34m)\u001b[0m\u001b[0;34m\u001b[0m\u001b[0;34m\u001b[0m\u001b[0m\n\u001b[0m\u001b[1;32m    590\u001b[0m             \u001b[0;32mexcept\u001b[0m \u001b[0mtimeout\u001b[0m\u001b[0;34m:\u001b[0m\u001b[0;34m\u001b[0m\u001b[0;34m\u001b[0m\u001b[0m\n\u001b[1;32m    591\u001b[0m                 \u001b[0mself\u001b[0m\u001b[0;34m.\u001b[0m\u001b[0m_timeout_occurred\u001b[0m \u001b[0;34m=\u001b[0m \u001b[0;32mTrue\u001b[0m\u001b[0;34m\u001b[0m\u001b[0;34m\u001b[0m\u001b[0m\n",
      "\u001b[0;31mKeyboardInterrupt\u001b[0m: "
     ]
    }
   ],
   "source": [
    "query = df_final.writeStream\\\n",
    ".format(\"console\") \\\n",
    ".option(\"truncate\",False) \\\n",
    ".outputMode(\"append\").start()\n",
    "\n",
    "query.awaitTermination()"
   ]
  },
  {
   "cell_type": "markdown",
   "id": "88181d7f-11fb-41bc-9641-dfb728edf9e2",
   "metadata": {},
   "source": [
    "# Write to Minio with Spark Streaming"
   ]
  },
  {
   "cell_type": "code",
   "execution_count": 22,
   "id": "92bb8502-f229-40a3-b51a-796ba1246f32",
   "metadata": {},
   "outputs": [],
   "source": [
    "# minio ya foreach batch şeklinde verimizi yazıyorum. Bunun için fonksiyonumuzu tanımladık.\n",
    "# Formatı csv, mode'nu append şeklinde ve cdc-data bucket altında customers klasöründe değişiklik meydana gelen verilerimi tutmuş oluyorum."
   ]
  },
  {
   "cell_type": "code",
   "execution_count": 25,
   "id": "e0fc3887-8ed0-4f80-9a80-faefe747c33a",
   "metadata": {},
   "outputs": [],
   "source": [
    "def write_to_multiple_sinks(df, batchId):\n",
    "    # write to file\n",
    "    df.write\\\n",
    "            .format(\"csv\") \\\n",
    "            .mode(\"append\") \\\n",
    "            .save(\"s3a://cdc-data/datasets/customers\")"
   ]
  },
  {
   "cell_type": "code",
   "execution_count": 26,
   "id": "335ba89a-b12f-4ab5-9d06-ec9f49280148",
   "metadata": {},
   "outputs": [
    {
     "name": "stderr",
     "output_type": "stream",
     "text": [
      "23/02/18 21:36:00 WARN AbstractS3ACommitterFactory: Using standard FileOutputCommitter to commit work. This is slow and potentially unsafe.\n",
      "                                                                                \r"
     ]
    },
    {
     "ename": "KeyboardInterrupt",
     "evalue": "",
     "output_type": "error",
     "traceback": [
      "\u001b[0;31m---------------------------------------------------------------------------\u001b[0m",
      "\u001b[0;31mKeyboardInterrupt\u001b[0m                         Traceback (most recent call last)",
      "\u001b[0;32m/tmp/ipykernel_2228/2542320279.py\u001b[0m in \u001b[0;36m<module>\u001b[0;34m\u001b[0m\n\u001b[1;32m      9\u001b[0m \u001b[0;34m\u001b[0m\u001b[0m\n\u001b[1;32m     10\u001b[0m \u001b[0;31m#\u001b[0m\u001b[0;34m\u001b[0m\u001b[0;34m\u001b[0m\u001b[0;34m\u001b[0m\u001b[0m\n\u001b[0;32m---> 11\u001b[0;31m \u001b[0mstreamingQuery\u001b[0m\u001b[0;34m.\u001b[0m\u001b[0mawaitTermination\u001b[0m\u001b[0;34m(\u001b[0m\u001b[0;34m)\u001b[0m\u001b[0;34m\u001b[0m\u001b[0;34m\u001b[0m\u001b[0m\n\u001b[0m",
      "\u001b[0;32m/usr/local/lib/python3.7/site-packages/pyspark/sql/streaming.py\u001b[0m in \u001b[0;36mawaitTermination\u001b[0;34m(self, timeout)\u001b[0m\n\u001b[1;32m     99\u001b[0m             \u001b[0;32mreturn\u001b[0m \u001b[0mself\u001b[0m\u001b[0;34m.\u001b[0m\u001b[0m_jsq\u001b[0m\u001b[0;34m.\u001b[0m\u001b[0mawaitTermination\u001b[0m\u001b[0;34m(\u001b[0m\u001b[0mint\u001b[0m\u001b[0;34m(\u001b[0m\u001b[0mtimeout\u001b[0m \u001b[0;34m*\u001b[0m \u001b[0;36m1000\u001b[0m\u001b[0;34m)\u001b[0m\u001b[0;34m)\u001b[0m\u001b[0;34m\u001b[0m\u001b[0;34m\u001b[0m\u001b[0m\n\u001b[1;32m    100\u001b[0m         \u001b[0;32melse\u001b[0m\u001b[0;34m:\u001b[0m\u001b[0;34m\u001b[0m\u001b[0;34m\u001b[0m\u001b[0m\n\u001b[0;32m--> 101\u001b[0;31m             \u001b[0;32mreturn\u001b[0m \u001b[0mself\u001b[0m\u001b[0;34m.\u001b[0m\u001b[0m_jsq\u001b[0m\u001b[0;34m.\u001b[0m\u001b[0mawaitTermination\u001b[0m\u001b[0;34m(\u001b[0m\u001b[0;34m)\u001b[0m\u001b[0;34m\u001b[0m\u001b[0;34m\u001b[0m\u001b[0m\n\u001b[0m\u001b[1;32m    102\u001b[0m \u001b[0;34m\u001b[0m\u001b[0m\n\u001b[1;32m    103\u001b[0m     \u001b[0;34m@\u001b[0m\u001b[0mproperty\u001b[0m\u001b[0;34m\u001b[0m\u001b[0;34m\u001b[0m\u001b[0m\n",
      "\u001b[0;32m/usr/local/lib/python3.7/site-packages/py4j/java_gateway.py\u001b[0m in \u001b[0;36m__call__\u001b[0;34m(self, *args)\u001b[0m\n\u001b[1;32m   1301\u001b[0m             \u001b[0mproto\u001b[0m\u001b[0;34m.\u001b[0m\u001b[0mEND_COMMAND_PART\u001b[0m\u001b[0;34m\u001b[0m\u001b[0;34m\u001b[0m\u001b[0m\n\u001b[1;32m   1302\u001b[0m \u001b[0;34m\u001b[0m\u001b[0m\n\u001b[0;32m-> 1303\u001b[0;31m         \u001b[0manswer\u001b[0m \u001b[0;34m=\u001b[0m \u001b[0mself\u001b[0m\u001b[0;34m.\u001b[0m\u001b[0mgateway_client\u001b[0m\u001b[0;34m.\u001b[0m\u001b[0msend_command\u001b[0m\u001b[0;34m(\u001b[0m\u001b[0mcommand\u001b[0m\u001b[0;34m)\u001b[0m\u001b[0;34m\u001b[0m\u001b[0;34m\u001b[0m\u001b[0m\n\u001b[0m\u001b[1;32m   1304\u001b[0m         return_value = get_return_value(\n\u001b[1;32m   1305\u001b[0m             answer, self.gateway_client, self.target_id, self.name)\n",
      "\u001b[0;32m/usr/local/lib/python3.7/site-packages/py4j/java_gateway.py\u001b[0m in \u001b[0;36msend_command\u001b[0;34m(self, command, retry, binary)\u001b[0m\n\u001b[1;32m   1031\u001b[0m         \u001b[0mconnection\u001b[0m \u001b[0;34m=\u001b[0m \u001b[0mself\u001b[0m\u001b[0;34m.\u001b[0m\u001b[0m_get_connection\u001b[0m\u001b[0;34m(\u001b[0m\u001b[0;34m)\u001b[0m\u001b[0;34m\u001b[0m\u001b[0;34m\u001b[0m\u001b[0m\n\u001b[1;32m   1032\u001b[0m         \u001b[0;32mtry\u001b[0m\u001b[0;34m:\u001b[0m\u001b[0;34m\u001b[0m\u001b[0;34m\u001b[0m\u001b[0m\n\u001b[0;32m-> 1033\u001b[0;31m             \u001b[0mresponse\u001b[0m \u001b[0;34m=\u001b[0m \u001b[0mconnection\u001b[0m\u001b[0;34m.\u001b[0m\u001b[0msend_command\u001b[0m\u001b[0;34m(\u001b[0m\u001b[0mcommand\u001b[0m\u001b[0;34m)\u001b[0m\u001b[0;34m\u001b[0m\u001b[0;34m\u001b[0m\u001b[0m\n\u001b[0m\u001b[1;32m   1034\u001b[0m             \u001b[0;32mif\u001b[0m \u001b[0mbinary\u001b[0m\u001b[0;34m:\u001b[0m\u001b[0;34m\u001b[0m\u001b[0;34m\u001b[0m\u001b[0m\n\u001b[1;32m   1035\u001b[0m                 \u001b[0;32mreturn\u001b[0m \u001b[0mresponse\u001b[0m\u001b[0;34m,\u001b[0m \u001b[0mself\u001b[0m\u001b[0;34m.\u001b[0m\u001b[0m_create_connection_guard\u001b[0m\u001b[0;34m(\u001b[0m\u001b[0mconnection\u001b[0m\u001b[0;34m)\u001b[0m\u001b[0;34m\u001b[0m\u001b[0;34m\u001b[0m\u001b[0m\n",
      "\u001b[0;32m/usr/local/lib/python3.7/site-packages/py4j/java_gateway.py\u001b[0m in \u001b[0;36msend_command\u001b[0;34m(self, command)\u001b[0m\n\u001b[1;32m   1198\u001b[0m \u001b[0;34m\u001b[0m\u001b[0m\n\u001b[1;32m   1199\u001b[0m         \u001b[0;32mtry\u001b[0m\u001b[0;34m:\u001b[0m\u001b[0;34m\u001b[0m\u001b[0;34m\u001b[0m\u001b[0m\n\u001b[0;32m-> 1200\u001b[0;31m             \u001b[0manswer\u001b[0m \u001b[0;34m=\u001b[0m \u001b[0msmart_decode\u001b[0m\u001b[0;34m(\u001b[0m\u001b[0mself\u001b[0m\u001b[0;34m.\u001b[0m\u001b[0mstream\u001b[0m\u001b[0;34m.\u001b[0m\u001b[0mreadline\u001b[0m\u001b[0;34m(\u001b[0m\u001b[0;34m)\u001b[0m\u001b[0;34m[\u001b[0m\u001b[0;34m:\u001b[0m\u001b[0;34m-\u001b[0m\u001b[0;36m1\u001b[0m\u001b[0;34m]\u001b[0m\u001b[0;34m)\u001b[0m\u001b[0;34m\u001b[0m\u001b[0;34m\u001b[0m\u001b[0m\n\u001b[0m\u001b[1;32m   1201\u001b[0m             \u001b[0mlogger\u001b[0m\u001b[0;34m.\u001b[0m\u001b[0mdebug\u001b[0m\u001b[0;34m(\u001b[0m\u001b[0;34m\"Answer received: {0}\"\u001b[0m\u001b[0;34m.\u001b[0m\u001b[0mformat\u001b[0m\u001b[0;34m(\u001b[0m\u001b[0manswer\u001b[0m\u001b[0;34m)\u001b[0m\u001b[0;34m)\u001b[0m\u001b[0;34m\u001b[0m\u001b[0;34m\u001b[0m\u001b[0m\n\u001b[1;32m   1202\u001b[0m             \u001b[0;32mif\u001b[0m \u001b[0manswer\u001b[0m\u001b[0;34m.\u001b[0m\u001b[0mstartswith\u001b[0m\u001b[0;34m(\u001b[0m\u001b[0mproto\u001b[0m\u001b[0;34m.\u001b[0m\u001b[0mRETURN_MESSAGE\u001b[0m\u001b[0;34m)\u001b[0m\u001b[0;34m:\u001b[0m\u001b[0;34m\u001b[0m\u001b[0;34m\u001b[0m\u001b[0m\n",
      "\u001b[0;32m/usr/local/lib/python3.7/socket.py\u001b[0m in \u001b[0;36mreadinto\u001b[0;34m(self, b)\u001b[0m\n\u001b[1;32m    587\u001b[0m         \u001b[0;32mwhile\u001b[0m \u001b[0;32mTrue\u001b[0m\u001b[0;34m:\u001b[0m\u001b[0;34m\u001b[0m\u001b[0;34m\u001b[0m\u001b[0m\n\u001b[1;32m    588\u001b[0m             \u001b[0;32mtry\u001b[0m\u001b[0;34m:\u001b[0m\u001b[0;34m\u001b[0m\u001b[0;34m\u001b[0m\u001b[0m\n\u001b[0;32m--> 589\u001b[0;31m                 \u001b[0;32mreturn\u001b[0m \u001b[0mself\u001b[0m\u001b[0;34m.\u001b[0m\u001b[0m_sock\u001b[0m\u001b[0;34m.\u001b[0m\u001b[0mrecv_into\u001b[0m\u001b[0;34m(\u001b[0m\u001b[0mb\u001b[0m\u001b[0;34m)\u001b[0m\u001b[0;34m\u001b[0m\u001b[0;34m\u001b[0m\u001b[0m\n\u001b[0m\u001b[1;32m    590\u001b[0m             \u001b[0;32mexcept\u001b[0m \u001b[0mtimeout\u001b[0m\u001b[0;34m:\u001b[0m\u001b[0;34m\u001b[0m\u001b[0;34m\u001b[0m\u001b[0m\n\u001b[1;32m    591\u001b[0m                 \u001b[0mself\u001b[0m\u001b[0;34m.\u001b[0m\u001b[0m_timeout_occurred\u001b[0m \u001b[0;34m=\u001b[0m \u001b[0;32mTrue\u001b[0m\u001b[0;34m\u001b[0m\u001b[0;34m\u001b[0m\u001b[0m\n",
      "\u001b[0;31mKeyboardInterrupt\u001b[0m: "
     ]
    }
   ],
   "source": [
    "# Sink\n",
    "checkpointDir = \"s3a://cdc-data/checkpoint/customers\"\n",
    "# start streaming\n",
    "streamingQuery = (df_final\n",
    "                  .writeStream\n",
    "                  .foreachBatch(write_to_multiple_sinks)\n",
    "                  .option(\"checkpointLocation\", checkpointDir)\n",
    "                  .start())\n",
    "\n",
    "#\n",
    "streamingQuery.awaitTermination()"
   ]
  },
  {
   "cell_type": "code",
   "execution_count": 27,
   "id": "9be4432f-a1bf-4821-9edc-96ddfbef0c23",
   "metadata": {},
   "outputs": [],
   "source": [
    "spark.stop()"
   ]
  },
  {
   "cell_type": "code",
   "execution_count": null,
   "id": "637f06e6-b8aa-4268-bfba-deae38f52a32",
   "metadata": {},
   "outputs": [],
   "source": []
  }
 ],
 "metadata": {
  "kernelspec": {
   "display_name": "Python 3 (ipykernel)",
   "language": "python",
   "name": "python3"
  },
  "language_info": {
   "codemirror_mode": {
    "name": "ipython",
    "version": 3
   },
   "file_extension": ".py",
   "mimetype": "text/x-python",
   "name": "python",
   "nbconvert_exporter": "python",
   "pygments_lexer": "ipython3",
   "version": "3.7.11"
  }
 },
 "nbformat": 4,
 "nbformat_minor": 5
}
